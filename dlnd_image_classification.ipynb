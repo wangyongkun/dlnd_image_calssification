{
 "cells": [
  {
   "cell_type": "markdown",
   "metadata": {
    "collapsed": true
   },
   "source": [
    "# Image Classification\n",
    "In this project, you'll classify images from the [CIFAR-10 dataset](https://www.cs.toronto.edu/~kriz/cifar.html).  The dataset consists of airplanes, dogs, cats, and other objects. You'll preprocess the images, then train a convolutional neural network on all the samples. The images need to be normalized and the labels need to be one-hot encoded.  You'll get to apply what you learned and build a convolutional, max pooling, dropout, and fully connected layers.  At the end, you'll get to see your neural network's predictions on the sample images.\n",
    "## Get the Data\n",
    "Run the following cell to download the [CIFAR-10 dataset for python](https://www.cs.toronto.edu/~kriz/cifar-10-python.tar.gz)."
   ]
  },
  {
   "cell_type": "code",
   "execution_count": 1,
   "metadata": {
    "collapsed": false
   },
   "outputs": [
    {
     "name": "stdout",
     "output_type": "stream",
     "text": [
      "All files found!\n"
     ]
    }
   ],
   "source": [
    "\"\"\"\n",
    "DON'T MODIFY ANYTHING IN THIS CELL THAT IS BELOW THIS LINE\n",
    "\"\"\"\n",
    "from urllib.request import urlretrieve\n",
    "from os.path import isfile, isdir\n",
    "from tqdm import tqdm\n",
    "import problem_unittests as tests\n",
    "import tarfile\n",
    "\n",
    "cifar10_dataset_folder_path = 'cifar-10-batches-py'\n",
    "\n",
    "class DLProgress(tqdm):\n",
    "    last_block = 0\n",
    "\n",
    "    def hook(self, block_num=1, block_size=1, total_size=None):\n",
    "        self.total = total_size\n",
    "        self.update((block_num - self.last_block) * block_size)\n",
    "        self.last_block = block_num\n",
    "\n",
    "if not isfile('cifar-10-python.tar.gz'):\n",
    "    with DLProgress(unit='B', unit_scale=True, miniters=1, desc='CIFAR-10 Dataset') as pbar:\n",
    "        urlretrieve(\n",
    "            'https://www.cs.toronto.edu/~kriz/cifar-10-python.tar.gz',\n",
    "            'cifar-10-python.tar.gz',\n",
    "            pbar.hook)\n",
    "\n",
    "if not isdir(cifar10_dataset_folder_path):\n",
    "    with tarfile.open('cifar-10-python.tar.gz') as tar:\n",
    "        tar.extractall()\n",
    "        tar.close()\n",
    "\n",
    "\n",
    "tests.test_folder_path(cifar10_dataset_folder_path)"
   ]
  },
  {
   "cell_type": "markdown",
   "metadata": {},
   "source": [
    "## Explore the Data\n",
    "The dataset is broken into batches to prevent your machine from running out of memory.  The CIFAR-10 dataset consists of 5 batches, named `data_batch_1`, `data_batch_2`, etc.. Each batch contains the labels and images that are one of the following:\n",
    "* airplane\n",
    "* automobile\n",
    "* bird\n",
    "* cat\n",
    "* deer\n",
    "* dog\n",
    "* frog\n",
    "* horse\n",
    "* ship\n",
    "* truck\n",
    "\n",
    "Understanding a dataset is part of making predictions on the data.  Play around with the code cell below by changing the `batch_id` and `sample_id`. The `batch_id` is the id for a batch (1-5). The `sample_id` is the id for a image and label pair in the batch.\n",
    "\n",
    "Ask yourself \"What are all possible labels?\", \"What is the range of values for the image data?\", \"Are the labels in order or random?\".  Answers to questions like these will help you preprocess the data and end up with better predictions."
   ]
  },
  {
   "cell_type": "code",
   "execution_count": 2,
   "metadata": {
    "collapsed": false
   },
   "outputs": [
    {
     "name": "stdout",
     "output_type": "stream",
     "text": [
      "\n",
      "Stats of batch 1:\n",
      "Samples: 10000\n",
      "Label Counts: {0: 1005, 1: 974, 2: 1032, 3: 1016, 4: 999, 5: 937, 6: 1030, 7: 1001, 8: 1025, 9: 981}\n",
      "First 20 Labels: [6, 9, 9, 4, 1, 1, 2, 7, 8, 3, 4, 7, 7, 2, 9, 9, 9, 3, 2, 6]\n",
      "\n",
      "Example of Image 6:\n",
      "Image - Min Value: 7 Max Value: 249\n",
      "Image - Shape: (32, 32, 3)\n",
      "Label - Label Id: 2 Name: bird\n"
     ]
    },
    {
     "data": {
      "image/png": "[encoded data removed]",
      "text/plain": [
       "<matplotlib.figure.Figure at 0x20275833748>"
      ]
     },
     "metadata": {
      "image/png": {
       "height": 250,
       "width": 253
      }
     },
     "output_type": "display_data"
    }
   ],
   "source": [
    "%matplotlib inline\n",
    "%config InlineBackend.figure_format = 'retina'\n",
    "\n",
    "import helper\n",
    "import numpy as np\n",
    "\n",
    "# Explore the dataset\n",
    "batch_id = 1\n",
    "sample_id = 6\n",
    "helper.display_stats(cifar10_dataset_folder_path, batch_id, sample_id)"
   ]
  },
  {
   "cell_type": "markdown",
   "metadata": {},
   "source": [
    "## Implement Preprocess Functions\n",
    "### Normalize\n",
    "In the cell below, implement the `normalize` function to take in image data, `x`, and return it as a normalized Numpy array. The values should be in the range of 0 to 1, inclusive.  The return object should be the same shape as `x`."
   ]
  },
  {
   "cell_type": "code",
   "execution_count": 16,
   "metadata": {
    "collapsed": false
   },
   "outputs": [
    {
     "name": "stdout",
     "output_type": "stream",
     "text": [
      "Tests Passed\n"
     ]
    }
   ],
   "source": [
    "def normalize(x):\n",
    "    \"\"\"\n",
    "    Normalize a list of sample image data in the range of 0 to 1\n",
    "    : x: List of image data.  The image shape is (32, 32, 3)\n",
    "    : return: Numpy array of normalize data\n",
    "    \"\"\"\n",
    "    # TODO: Implement Function\n",
    "    x = np.array((x) / (255))\n",
    "    return x\n",
    "\n",
    "\n",
    "\"\"\"\n",
    "DON'T MODIFY ANYTHING IN THIS CELL THAT IS BELOW THIS LINE\n",
    "\"\"\"\n",
    "tests.test_normalize(normalize)"
   ]
  },
  {
   "cell_type": "markdown",
   "metadata": {},
   "source": [
    "### One-hot encode\n",
    "Just like the previous code cell, you'll be implementing a function for preprocessing.  This time, you'll implement the `one_hot_encode` function. The input, `x`, are a list of labels.  Implement the function to return the list of labels as One-Hot encoded Numpy array.  The possible values for labels are 0 to 9. The one-hot encoding function should return the same encoding for each value between each call to `one_hot_encode`.  Make sure to save the map of encodings outside the function.\n",
    "\n",
    "Hint: Don't reinvent the wheel."
   ]
  },
  {
   "cell_type": "code",
   "execution_count": 17,
   "metadata": {
    "collapsed": false
   },
   "outputs": [
    {
     "name": "stdout",
     "output_type": "stream",
     "text": [
      "Tests Passed\n"
     ]
    }
   ],
   "source": [
    "from sklearn.preprocessing import LabelBinarizer\n",
    "\n",
    "is_labels_encod = False\n",
    "encd = {}\n",
    "def one_hot_encode(x):\n",
    "    \"\"\"\n",
    "    One hot encode a list of sample labels. Return a one-hot encoded vector for each label.\n",
    "    : x: List of sample Labels\n",
    "    : return: Numpy array of one-hot encoded labels\n",
    "    \"\"\"\n",
    "    # TODO: Implement Function\n",
    "    global is_labels_encod\n",
    "    global encd\n",
    "    if not is_labels_encod:\n",
    "        encoder = LabelBinarizer()\n",
    "        encd = encoder.fit(x)\n",
    "        is_labels_encod = True\n",
    "        return encd.transform(x)\n",
    "    else:\n",
    "        return encd.transform(x)\n",
    "    \n",
    "\"\"\"\n",
    "DON'T MODIFY ANYTHING IN THIS CELL THAT IS BELOW THIS LINE\n",
    "\"\"\"\n",
    "tests.test_one_hot_encode(one_hot_encode)"
   ]
  },
  {
   "cell_type": "markdown",
   "metadata": {},
   "source": [
    "### Randomize Data\n",
    "As you saw from exploring the data above, the order of the samples are randomized.  It doesn't hurt to randomize it again, but you don't need to for this dataset."
   ]
  },
  {
   "cell_type": "markdown",
   "metadata": {},
   "source": [
    "## Preprocess all the data and save it\n",
    "Running the code cell below will preprocess all the CIFAR-10 data and save it to file. The code below also uses 10% of the training data for validation."
   ]
  },
  {
   "cell_type": "code",
   "execution_count": 18,
   "metadata": {
    "collapsed": false
   },
   "outputs": [],
   "source": [
    "\"\"\"\n",
    "DON'T MODIFY ANYTHING IN THIS CELL\n",
    "\"\"\"\n",
    "# Preprocess Training, Validation, and Testing Data\n",
    "helper.preprocess_and_save_data(cifar10_dataset_folder_path, normalize, one_hot_encode)"
   ]
  },
  {
   "cell_type": "markdown",
   "metadata": {},
   "source": [
    "# Check Point\n",
    "This is your first checkpoint.  If you ever decide to come back to this notebook or have to restart the notebook, you can start from here.  The preprocessed data has been saved to disk."
   ]
  },
  {
   "cell_type": "code",
   "execution_count": 19,
   "metadata": {
    "collapsed": true
   },
   "outputs": [],
   "source": [
    "\"\"\"\n",
    "DON'T MODIFY ANYTHING IN THIS CELL\n",
    "\"\"\"\n",
    "import pickle\n",
    "import problem_unittests as tests\n",
    "import helper\n",
    "\n",
    "# Load the Preprocessed Validation data\n",
    "valid_features, valid_labels = pickle.load(open('preprocess_validation.p', mode='rb'))"
   ]
  },
  {
   "cell_type": "markdown",
   "metadata": {},
   "source": [
    "## Build the network\n",
    "For the neural network, you'll build each layer into a function.  Most of the code you've seen has been outside of functions. To test your code more thoroughly, we require that you put each layer in a function.  This allows us to give you better feedback and test for simple mistakes using our unittests before you submit your project.\n",
    "\n",
    "If you're finding it hard to dedicate enough time for this course a week, we've provided a small shortcut to this part of the project. In the next couple of problems, you'll have the option to use [TensorFlow Layers](https://www.tensorflow.org/api_docs/python/tf/layers) or [TensorFlow Layers (contrib)](https://www.tensorflow.org/api_guides/python/contrib.layers) to build each layer, except \"Convolutional & Max Pooling\" layer.  TF Layers is similar to Keras's and TFLearn's abstraction to layers, so it's easy to pickup.\n",
    "\n",
    "If you would like to get the most of this course, try to solve all the problems without TF Layers.  Let's begin!\n",
    "### Input\n",
    "The neural network needs to read the image data, one-hot encoded labels, and dropout keep probability. Implement the following functions\n",
    "* Implement `neural_net_image_input`\n",
    " * Return a [TF Placeholder](https://www.tensorflow.org/api_docs/python/tf/placeholder)\n",
    " * Set the shape using `image_shape` with batch size set to `None`.\n",
    " * Name the TensorFlow placeholder \"x\" using the TensorFlow `name` parameter in the [TF Placeholder](https://www.tensorflow.org/api_docs/python/tf/placeholder).\n",
    "* Implement `neural_net_label_input`\n",
    " * Return a [TF Placeholder](https://www.tensorflow.org/api_docs/python/tf/placeholder)\n",
    " * Set the shape using `n_classes` with batch size set to `None`.\n",
    " * Name the TensorFlow placeholder \"y\" using the TensorFlow `name` parameter in the [TF Placeholder](https://www.tensorflow.org/api_docs/python/tf/placeholder).\n",
    "* Implement `neural_net_keep_prob_input`\n",
    " * Return a [TF Placeholder](https://www.tensorflow.org/api_docs/python/tf/placeholder) for dropout keep probability.\n",
    " * Name the TensorFlow placeholder \"keep_prob\" using the TensorFlow `name` parameter in the [TF Placeholder](https://www.tensorflow.org/api_docs/python/tf/placeholder).\n",
    "\n",
    "These names will be used at the end of the project to load your saved model.\n",
    "\n",
    "Note: `None` for shapes in TensorFlow allow for a dynamic size."
   ]
  },
  {
   "cell_type": "code",
   "execution_count": 20,
   "metadata": {
    "collapsed": false
   },
   "outputs": [
    {
     "name": "stdout",
     "output_type": "stream",
     "text": [
      "Image Input Tests Passed.\n",
      "Label Input Tests Passed.\n",
      "Keep Prob Tests Passed.\n"
     ]
    }
   ],
   "source": [
    "import tensorflow as tf\n",
    "\n",
    "def neural_net_image_input(image_shape):\n",
    "    \"\"\"\n",
    "    Return a Tensor for a bach of image input\n",
    "    : image_shape: Shape of the images\n",
    "    : return: Tensor for image input.\n",
    "    \"\"\"\n",
    "    # TODO: Implement Function\n",
    "    return tf.placeholder(tf.float32, shape=[None,image_shape[0],image_shape[1],image_shape[2]], name='x')\n",
    "\n",
    "\n",
    "def neural_net_label_input(n_classes):\n",
    "    \"\"\"\n",
    "    Return a Tensor for a batch of label input\n",
    "    : n_classes: Number of classes\n",
    "    : return: Tensor for label input.\n",
    "    \"\"\"\n",
    "    # TODO: Implement Function\n",
    "    return tf.placeholder(tf.float32, shape=[None, n_classes], name='y')\n",
    "\n",
    "\n",
    "def neural_net_keep_prob_input():\n",
    "    \"\"\"\n",
    "    Return a Tensor for keep probability\n",
    "    : return: Tensor for keep probability.\n",
    "    \"\"\"\n",
    "    # TODO: Implement Function\n",
    "    return tf.placeholder(tf.float32, name='keep_prob')\n",
    "\n",
    "\n",
    "\"\"\"\n",
    "DON'T MODIFY ANYTHING IN THIS CELL THAT IS BELOW THIS LINE\n",
    "\"\"\"\n",
    "tf.reset_default_graph()\n",
    "tests.test_nn_image_inputs(neural_net_image_input)\n",
    "tests.test_nn_label_inputs(neural_net_label_input)\n",
    "tests.test_nn_keep_prob_inputs(neural_net_keep_prob_input)"
   ]
  },
  {
   "cell_type": "markdown",
   "metadata": {},
   "source": [
    "### Convolution and Max Pooling Layer\n",
    "Convolution layers have a lot of success with images. For this code cell, you should implement the function `conv2d_maxpool` to apply convolution then max pooling:\n",
    "* Create the weight and bias using `conv_ksize`, `conv_num_outputs` and the shape of `x_tensor`.\n",
    "* Apply a convolution to `x_tensor` using weight and `conv_strides`.\n",
    " * We recommend you use same padding, but you're welcome to use any padding.\n",
    "* Add bias\n",
    "* Add a nonlinear activation to the convolution.\n",
    "* Apply Max Pooling using `pool_ksize` and `pool_strides`.\n",
    " * We recommend you use same padding, but you're welcome to use any padding.\n",
    "\n",
    "Note: You **can't** use [TensorFlow Layers](https://www.tensorflow.org/api_docs/python/tf/layers) or [TensorFlow Layers (contrib)](https://www.tensorflow.org/api_guides/python/contrib.layers) for this layer.  You're free to use any TensorFlow package for all the other layers."
   ]
  },
  {
   "cell_type": "code",
   "execution_count": 21,
   "metadata": {
    "collapsed": false
   },
   "outputs": [
    {
     "name": "stdout",
     "output_type": "stream",
     "text": [
      "Tests Passed\n"
     ]
    }
   ],
   "source": [
    "def conv2d_maxpool(x_tensor, conv_num_outputs, conv_ksize, conv_strides, pool_ksize, pool_strides):\n",
    "    \"\"\"\n",
    "    Apply convolution then max pooling to x_tensor\n",
    "    :param x_tensor: TensorFlow Tensor\n",
    "    :param conv_num_outputs: Number of outputs for the convolutional layer\n",
    "    :param conv_strides: Stride 2-D Tuple for convolution\n",
    "    :param pool_ksize: kernal size 2-D Tuple for pool\n",
    "    :param pool_strides: Stride 2-D Tuple for pool\n",
    "    : return: A tensor that represents convolution and max pooling of x_tensor\n",
    "    \"\"\"\n",
    "    # TODO: Implement Function\n",
    "    shape = [conv_ksize[0], conv_ksize[1], x_tensor.get_shape().as_list()[-1], conv_num_outputs]\n",
    "    weights = tf.Variable(tf.truncated_normal(shape=shape, mean=0.0, stddev=0.1))\n",
    "    bias = tf.Variable(tf.zeros([conv_num_outputs]))\n",
    "    \n",
    "    conv2d = tf.nn.conv2d(x_tensor, weights, \n",
    "                          strides=[1, conv_strides[0], conv_strides[1], 1], padding='SAME')\n",
    "    layer1 = tf.nn.bias_add(conv2d, bias)\n",
    "    layer1 = tf.nn.relu(layer1)\n",
    "    \n",
    "    layer2 = tf.nn.max_pool(layer1, ksize=[1, pool_ksize[0], pool_ksize[1], 1], \n",
    "                            strides=[1, pool_strides[0],pool_strides[1], 1], padding='SAME')\n",
    "    return layer2\n",
    "\n",
    "\n",
    "\"\"\"\n",
    "DON'T MODIFY ANYTHING IN THIS CELL THAT IS BELOW THIS LINE\n",
    "\"\"\"\n",
    "tests.test_con_pool(conv2d_maxpool)"
   ]
  },
  {
   "cell_type": "markdown",
   "metadata": {},
   "source": [
    "### Flatten Layer\n",
    "Implement the `flatten` function to change the dimension of `x_tensor` from a 4-D tensor to a 2-D tensor.  The output should be the shape (*Batch Size*, *Flattened Image Size*). You can use [TensorFlow Layers](https://www.tensorflow.org/api_docs/python/tf/layers) or [TensorFlow Layers (contrib)](https://www.tensorflow.org/api_guides/python/contrib.layers) for this layer."
   ]
  },
  {
   "cell_type": "code",
   "execution_count": 22,
   "metadata": {
    "collapsed": false
   },
   "outputs": [
    {
     "name": "stdout",
     "output_type": "stream",
     "text": [
      "Tests Passed\n"
     ]
    }
   ],
   "source": [
    "def flatten(x_tensor):\n",
    "    \"\"\"\n",
    "    Flatten x_tensor to (Batch Size, Flattened Image Size)\n",
    "    : x_tensor: A tensor of size (Batch Size, ...), where ... are the image dimensions.\n",
    "    : return: A tensor of size (Batch Size, Flattened Image Size).\n",
    "    \"\"\"\n",
    "    # TODO: Implement Function\n",
    "    shape = x_tensor.get_shape()\n",
    "    image_size = shape[1:4].num_elements()\n",
    "    return tf.reshape(x_tensor, [-1, image_size])\n",
    "\n",
    "\n",
    "\"\"\"\n",
    "DON'T MODIFY ANYTHING IN THIS CELL THAT IS BELOW THIS LINE\n",
    "\"\"\"\n",
    "tests.test_flatten(flatten)"
   ]
  },
  {
   "cell_type": "markdown",
   "metadata": {},
   "source": [
    "### Fully-Connected Layer\n",
    "Implement the `fully_conn` function to apply a fully connected layer to `x_tensor` with the shape (*Batch Size*, *num_outputs*). You can use [TensorFlow Layers](https://www.tensorflow.org/api_docs/python/tf/layers) or [TensorFlow Layers (contrib)](https://www.tensorflow.org/api_guides/python/contrib.layers) for this layer."
   ]
  },
  {
   "cell_type": "code",
   "execution_count": 23,
   "metadata": {
    "collapsed": false
   },
   "outputs": [
    {
     "name": "stdout",
     "output_type": "stream",
     "text": [
      "Tests Passed\n"
     ]
    }
   ],
   "source": [
    "def fully_conn(x_tensor, num_outputs):\n",
    "    \"\"\"\n",
    "    Apply a fully connected layer to x_tensor using weight and bias\n",
    "    : x_tensor: A 2-D tensor where the first dimension is batch size.\n",
    "    : num_outputs: The number of output that the new tensor should be.\n",
    "    : return: A 2-D tensor where the second dimension is num_outputs.\n",
    "    \"\"\"\n",
    "    # TODO: Implement Function\n",
    "    y_shape = x_tensor.get_shape().as_list()[-1]\n",
    "    weights = tf.Variable(tf.truncated_normal(shape=[y_shape,num_outputs], mean=0.0, stddev=0.1))\n",
    "    bias = tf.Variable(tf.zeros([num_outputs]))\n",
    "    layer = tf.matmul(x_tensor, weights) + bias\n",
    "    layer = tf.nn.relu(layer)\n",
    "    return layer\n",
    "\n",
    "\n",
    "\"\"\"\n",
    "DON'T MODIFY ANYTHING IN THIS CELL THAT IS BELOW THIS LINE\n",
    "\"\"\"\n",
    "tests.test_fully_conn(fully_conn)"
   ]
  },
  {
   "cell_type": "markdown",
   "metadata": {},
   "source": [
    "### Output Layer\n",
    "Implement the `output` function to apply a fully connected layer to `x_tensor` with the shape (*Batch Size*, *num_outputs*). You can use [TensorFlow Layers](https://www.tensorflow.org/api_docs/python/tf/layers) or [TensorFlow Layers (contrib)](https://www.tensorflow.org/api_guides/python/contrib.layers) for this layer.\n",
    "\n",
    "Note: Activation, softmax, or cross entropy shouldn't be applied to this."
   ]
  },
  {
   "cell_type": "code",
   "execution_count": 24,
   "metadata": {
    "collapsed": false
   },
   "outputs": [
    {
     "name": "stdout",
     "output_type": "stream",
     "text": [
      "Tests Passed\n"
     ]
    }
   ],
   "source": [
    "def output(x_tensor, num_outputs):\n",
    "    \"\"\"\n",
    "    Apply a output layer to x_tensor using weight and bias\n",
    "    : x_tensor: A 2-D tensor where the first dimension is batch size.\n",
    "    : num_outputs: The number of output that the new tensor should be.\n",
    "    : return: A 2-D tensor where the second dimension is num_outputs.\n",
    "    \"\"\"\n",
    "    # TODO: Implement Function\n",
    "    y_shape = x_tensor.get_shape().as_list()[-1]\n",
    "    weights = tf.Variable(tf.truncated_normal(shape=[y_shape,num_outputs], mean=0.0, stddev=0.1))\n",
    "    bias = tf.Variable(tf.zeros([num_outputs]))\n",
    "    layer = tf.matmul(x_tensor, weights) + bias\n",
    "    return layer\n",
    "\n",
    "\"\"\"\n",
    "DON'T MODIFY ANYTHING IN THIS CELL THAT IS BELOW THIS LINE\n",
    "\"\"\"\n",
    "tests.test_output(output)"
   ]
  },
  {
   "cell_type": "markdown",
   "metadata": {},
   "source": [
    "### Create Convolutional Model\n",
    "Implement the function `conv_net` to create a convolutional neural network model. The function takes in a batch of images, `x`, and outputs logits.  Use the layers you created above to create this model:\n",
    "\n",
    "* Apply 1, 2, or 3 Convolution and Max Pool layers\n",
    "* Apply a Flatten Layer\n",
    "* Apply 1, 2, or 3 Fully Connected Layers\n",
    "* Apply an Output Layer\n",
    "* Return the output\n",
    "* Apply [TensorFlow's Dropout](https://www.tensorflow.org/api_docs/python/tf/nn/dropout) to one or more layers in the model using `keep_prob`. "
   ]
  },
  {
   "cell_type": "code",
   "execution_count": 70,
   "metadata": {
    "collapsed": false
   },
   "outputs": [
    {
     "name": "stdout",
     "output_type": "stream",
     "text": [
      "Neural Network Built!\n"
     ]
    }
   ],
   "source": [
    "def conv_net(x, keep_prob):\n",
    "    \"\"\"\n",
    "    Create a convolutional neural network model\n",
    "    : x: Placeholder tensor that holds image data.\n",
    "    : keep_prob: Placeholder tensor that hold dropout keep probability.\n",
    "    : return: Tensor that represents logits\n",
    "    \"\"\"\n",
    "    # TODO: Apply 1, 2, or 3 Convolution and Max Pool layers\n",
    "    #    Play around with different number of outputs, kernel size and stride\n",
    "    # Function Definition from Above:\n",
    "    x_tensor = x\n",
    "    conv_num_outputs = 16\n",
    "    conv_ksize = (4,4)\n",
    "    conv_strides = (1,1)\n",
    "    pool_ksize = (2,2)\n",
    "    pool_strides = (2,2)\n",
    "    conv1 = conv2d_maxpool(x_tensor, conv_num_outputs, conv_ksize, conv_strides, pool_ksize, pool_strides)\n",
    "    \n",
    "    conv_num_outputs = 32\n",
    "    conv2 = conv2d_maxpool(conv1, conv_num_outputs, conv_ksize, conv_strides, pool_ksize, pool_strides)\n",
    "    \n",
    "    conv_num_outputs = 64\n",
    "    conv3 = conv2d_maxpool(conv2, conv_num_outputs, conv_ksize, conv_strides, pool_ksize, pool_strides)\n",
    "    \n",
    "    x_tensor = conv3\n",
    "    # TODO: Apply a Flatten Layer\n",
    "    # Function Definition from Above:\n",
    "    x_tensor = flatten(x_tensor)\n",
    "\n",
    "    # TODO: Apply 1, 2, or 3 Fully Connected Layers\n",
    "    #    Play around with different number of outputs\n",
    "    # Function Definition from Above:\n",
    "    num_outputs = 10\n",
    "    x_tensor = fully_conn(x_tensor, num_outputs)\n",
    "    x_tensor = tf.nn.dropout(x_tensor, keep_prob)\n",
    "    \n",
    "    # TODO: Apply an Output Layer\n",
    "    #    Set this to the number of classes\n",
    "    # Function Definition from Above:\n",
    "    x_tensor = output(x_tensor, num_outputs)\n",
    "    \n",
    "    \n",
    "    # TODO: return output\n",
    "    return x_tensor\n",
    "\n",
    "\n",
    "\"\"\"\n",
    "DON'T MODIFY ANYTHING IN THIS CELL THAT IS BELOW THIS LINE\n",
    "\"\"\"\n",
    "\n",
    "##############################\n",
    "## Build the Neural Network ##\n",
    "##############################\n",
    "\n",
    "# Remove previous weights, bias, inputs, etc..\n",
    "tf.reset_default_graph()\n",
    "\n",
    "# Inputs\n",
    "x = neural_net_image_input((32, 32, 3))\n",
    "y = neural_net_label_input(10)\n",
    "keep_prob = neural_net_keep_prob_input()\n",
    "\n",
    "# Model\n",
    "logits = conv_net(x, keep_prob)\n",
    "\n",
    "# Name logits Tensor, so that is can be loaded from disk after training\n",
    "logits = tf.identity(logits, name='logits')\n",
    "\n",
    "# Loss and Optimizer\n",
    "cost = tf.reduce_mean(tf.nn.softmax_cross_entropy_with_logits(logits=logits, labels=y))\n",
    "optimizer = tf.train.AdamOptimizer().minimize(cost)\n",
    "\n",
    "# Accuracy\n",
    "correct_pred = tf.equal(tf.argmax(logits, 1), tf.argmax(y, 1))\n",
    "accuracy = tf.reduce_mean(tf.cast(correct_pred, tf.float32), name='accuracy')\n",
    "\n",
    "tests.test_conv_net(conv_net)"
   ]
  },
  {
   "cell_type": "markdown",
   "metadata": {},
   "source": [
    "## Train the Neural Network\n",
    "### Single Optimization\n",
    "Implement the function `train_neural_network` to do a single optimization.  The optimization should use `optimizer` to optimize in `session` with a `feed_dict` of the following:\n",
    "* `x` for image input\n",
    "* `y` for labels\n",
    "* `keep_prob` for keep probability for dropout\n",
    "\n",
    "This function will be called for each batch, so `tf.global_variables_initializer()` has already been called.\n",
    "\n",
    "Note: Nothing needs to be returned. This function is only optimizing the neural network."
   ]
  },
  {
   "cell_type": "code",
   "execution_count": 71,
   "metadata": {
    "collapsed": false
   },
   "outputs": [
    {
     "name": "stdout",
     "output_type": "stream",
     "text": [
      "Tests Passed\n"
     ]
    }
   ],
   "source": [
    "def train_neural_network(session, optimizer, keep_probability, feature_batch, label_batch):\n",
    "    \"\"\"\n",
    "    Optimize the session on a batch of images and labels\n",
    "    : session: Current TensorFlow session\n",
    "    : optimizer: TensorFlow optimizer function\n",
    "    : keep_probability: keep probability\n",
    "    : feature_batch: Batch of Numpy image data\n",
    "    : label_batch: Batch of Numpy label data\n",
    "    \"\"\"\n",
    "    # TODO: Implement Function\n",
    "    session.run(optimizer,feed_dict={x:feature_batch, y:label_batch, keep_prob:keep_probability})\n",
    "\n",
    "\n",
    "\"\"\"\n",
    "DON'T MODIFY ANYTHING IN THIS CELL THAT IS BELOW THIS LINE\n",
    "\"\"\"\n",
    "tests.test_train_nn(train_neural_network)"
   ]
  },
  {
   "cell_type": "markdown",
   "metadata": {},
   "source": [
    "### Show Stats\n",
    "Implement the function `print_stats` to print loss and validation accuracy.  Use the global variables `valid_features` and `valid_labels` to calculate validation accuracy.  Use a keep probability of `1.0` to calculate the loss and validation accuracy."
   ]
  },
  {
   "cell_type": "code",
   "execution_count": 72,
   "metadata": {
    "collapsed": false
   },
   "outputs": [],
   "source": [
    "def print_stats(session, feature_batch, label_batch, cost, accuracy):\n",
    "    \"\"\"\n",
    "    Print information about loss and validation accuracy\n",
    "    : session: Current TensorFlow session\n",
    "    : feature_batch: Batch of Numpy image data\n",
    "    : label_batch: Batch of Numpy label data\n",
    "    : cost: TensorFlow cost function\n",
    "    : accuracy: TensorFlow accuracy function\n",
    "    \"\"\"\n",
    "    # TODO: Implement Function\n",
    "    \n",
    "    # Calculate batch loss and accuracy\n",
    "    loss = session.run(cost, feed_dict={x: feature_batch, y: label_batch, keep_prob: 1.})\n",
    "    valid_acc = session.run(accuracy, feed_dict={x: valid_features, y: valid_labels, keep_prob: 1.})\n",
    "\n",
    "    print('Loss: {:>10.4f} Validation Accuracy: {:.6f}'.format(loss, valid_acc))\n",
    "    pass"
   ]
  },
  {
   "cell_type": "markdown",
   "metadata": {},
   "source": [
    "### Hyperparameters\n",
    "Tune the following parameters:\n",
    "* Set `epochs` to the number of iterations until the network stops learning or start overfitting\n",
    "* Set `batch_size` to the highest number that your machine has memory for.  Most people set them to common sizes of memory:\n",
    " * 64\n",
    " * 128\n",
    " * 256\n",
    " * ...\n",
    "* Set `keep_probability` to the probability of keeping a node using dropout"
   ]
  },
  {
   "cell_type": "code",
   "execution_count": 73,
   "metadata": {
    "collapsed": true
   },
   "outputs": [],
   "source": [
    "# TODO: Tune Parameters\n",
    "epochs = 30\n",
    "batch_size = 128\n",
    "keep_probability = 0.75"
   ]
  },
  {
   "cell_type": "markdown",
   "metadata": {},
   "source": [
    "### Train on a Single CIFAR-10 Batch\n",
    "Instead of training the neural network on all the CIFAR-10 batches of data, let's use a single batch. This should save time while you iterate on the model to get a better accuracy.  Once the final validation accuracy is 50% or greater, run the model on all the data in the next section."
   ]
  },
  {
   "cell_type": "code",
   "execution_count": 74,
   "metadata": {
    "collapsed": false
   },
   "outputs": [
    {
     "name": "stdout",
     "output_type": "stream",
     "text": [
      "Checking the Training on a Single Batch...\n",
      "Epoch  1, CIFAR-10 Batch 1:  Loss:     2.2046 Validation Accuracy: 0.230400\n",
      "Epoch  2, CIFAR-10 Batch 1:  Loss:     2.0636 Validation Accuracy: 0.295000\n",
      "Epoch  3, CIFAR-10 Batch 1:  Loss:     1.9461 Validation Accuracy: 0.345600\n",
      "Epoch  4, CIFAR-10 Batch 1:  Loss:     1.8391 Validation Accuracy: 0.390600\n",
      "Epoch  5, CIFAR-10 Batch 1:  Loss:     1.7511 Validation Accuracy: 0.415800\n",
      "Epoch  6, CIFAR-10 Batch 1:  Loss:     1.7046 Validation Accuracy: 0.428400\n",
      "Epoch  7, CIFAR-10 Batch 1:  Loss:     1.6091 Validation Accuracy: 0.435800\n",
      "Epoch  8, CIFAR-10 Batch 1:  Loss:     1.5593 Validation Accuracy: 0.437600\n",
      "Epoch  9, CIFAR-10 Batch 1:  Loss:     1.5964 Validation Accuracy: 0.438600\n",
      "Epoch 10, CIFAR-10 Batch 1:  Loss:     1.4739 Validation Accuracy: 0.446000\n",
      "Epoch 11, CIFAR-10 Batch 1:  Loss:     1.4057 Validation Accuracy: 0.474400\n",
      "Epoch 12, CIFAR-10 Batch 1:  Loss:     1.3517 Validation Accuracy: 0.474400\n",
      "Epoch 13, CIFAR-10 Batch 1:  Loss:     1.2890 Validation Accuracy: 0.476000\n",
      "Epoch 14, CIFAR-10 Batch 1:  Loss:     1.3120 Validation Accuracy: 0.466200\n",
      "Epoch 15, CIFAR-10 Batch 1:  Loss:     1.2083 Validation Accuracy: 0.480000\n",
      "Epoch 16, CIFAR-10 Batch 1:  Loss:     1.1511 Validation Accuracy: 0.488400\n",
      "Epoch 17, CIFAR-10 Batch 1:  Loss:     1.0658 Validation Accuracy: 0.487400\n",
      "Epoch 18, CIFAR-10 Batch 1:  Loss:     1.0723 Validation Accuracy: 0.505600\n",
      "Epoch 19, CIFAR-10 Batch 1:  Loss:     1.0462 Validation Accuracy: 0.481400\n",
      "Epoch 20, CIFAR-10 Batch 1:  Loss:     1.0869 Validation Accuracy: 0.477000\n",
      "Epoch 21, CIFAR-10 Batch 1:  Loss:     0.9833 Validation Accuracy: 0.501000\n",
      "Epoch 22, CIFAR-10 Batch 1:  Loss:     0.9336 Validation Accuracy: 0.508000\n",
      "Epoch 23, CIFAR-10 Batch 1:  Loss:     0.8929 Validation Accuracy: 0.516400\n",
      "Epoch 24, CIFAR-10 Batch 1:  Loss:     0.9180 Validation Accuracy: 0.503200\n",
      "Epoch 25, CIFAR-10 Batch 1:  Loss:     0.8879 Validation Accuracy: 0.506800\n",
      "Epoch 26, CIFAR-10 Batch 1:  Loss:     0.8230 Validation Accuracy: 0.512000\n",
      "Epoch 27, CIFAR-10 Batch 1:  Loss:     0.7705 Validation Accuracy: 0.521800\n",
      "Epoch 28, CIFAR-10 Batch 1:  Loss:     0.7639 Validation Accuracy: 0.525000\n",
      "Epoch 29, CIFAR-10 Batch 1:  Loss:     0.7246 Validation Accuracy: 0.521400\n",
      "Epoch 30, CIFAR-10 Batch 1:  Loss:     0.7417 Validation Accuracy: 0.521800\n"
     ]
    }
   ],
   "source": [
    "\"\"\"\n",
    "DON'T MODIFY ANYTHING IN THIS CELL\n",
    "\"\"\"\n",
    "print('Checking the Training on a Single Batch...')\n",
    "with tf.Session() as sess:\n",
    "    # Initializing the variables\n",
    "    sess.run(tf.global_variables_initializer())\n",
    "    \n",
    "    # Training cycle\n",
    "    for epoch in range(epochs):\n",
    "        batch_i = 1\n",
    "        for batch_features, batch_labels in helper.load_preprocess_training_batch(batch_i, batch_size):\n",
    "            train_neural_network(sess, optimizer, keep_probability, batch_features, batch_labels)\n",
    "        print('Epoch {:>2}, CIFAR-10 Batch {}:  '.format(epoch + 1, batch_i), end='')\n",
    "        print_stats(sess, batch_features, batch_labels, cost, accuracy)"
   ]
  },
  {
   "cell_type": "markdown",
   "metadata": {},
   "source": [
    "### Fully Train the Model\n",
    "Now that you got a good accuracy with a single CIFAR-10 batch, try it with all five batches."
   ]
  },
  {
   "cell_type": "code",
   "execution_count": 75,
   "metadata": {
    "collapsed": false
   },
   "outputs": [
    {
     "name": "stdout",
     "output_type": "stream",
     "text": [
      "Training...\n",
      "Epoch  1, CIFAR-10 Batch 1:  Loss:     2.2404 Validation Accuracy: 0.199200\n",
      "Epoch  1, CIFAR-10 Batch 2:  Loss:     2.1430 Validation Accuracy: 0.231800\n",
      "Epoch  1, CIFAR-10 Batch 3:  Loss:     1.7927 Validation Accuracy: 0.254600\n",
      "Epoch  1, CIFAR-10 Batch 4:  Loss:     1.8738 Validation Accuracy: 0.297000\n",
      "Epoch  1, CIFAR-10 Batch 5:  Loss:     1.8734 Validation Accuracy: 0.261000\n",
      "Epoch  2, CIFAR-10 Batch 1:  Loss:     1.9926 Validation Accuracy: 0.291800\n",
      "Epoch  2, CIFAR-10 Batch 2:  Loss:     1.8183 Validation Accuracy: 0.297400\n",
      "Epoch  2, CIFAR-10 Batch 3:  Loss:     1.6185 Validation Accuracy: 0.305600\n",
      "Epoch  2, CIFAR-10 Batch 4:  Loss:     1.7520 Validation Accuracy: 0.309200\n",
      "Epoch  2, CIFAR-10 Batch 5:  Loss:     1.6860 Validation Accuracy: 0.296000\n",
      "Epoch  3, CIFAR-10 Batch 1:  Loss:     1.9044 Validation Accuracy: 0.322600\n",
      "Epoch  3, CIFAR-10 Batch 2:  Loss:     1.7682 Validation Accuracy: 0.331600\n",
      "Epoch  3, CIFAR-10 Batch 3:  Loss:     1.5419 Validation Accuracy: 0.345400\n",
      "Epoch  3, CIFAR-10 Batch 4:  Loss:     1.6985 Validation Accuracy: 0.344200\n",
      "Epoch  3, CIFAR-10 Batch 5:  Loss:     1.6352 Validation Accuracy: 0.340000\n",
      "Epoch  4, CIFAR-10 Batch 1:  Loss:     1.8071 Validation Accuracy: 0.348400\n",
      "Epoch  4, CIFAR-10 Batch 2:  Loss:     1.6610 Validation Accuracy: 0.356200\n",
      "Epoch  4, CIFAR-10 Batch 3:  Loss:     1.5077 Validation Accuracy: 0.369600\n",
      "Epoch  4, CIFAR-10 Batch 4:  Loss:     1.6137 Validation Accuracy: 0.381400\n",
      "Epoch  4, CIFAR-10 Batch 5:  Loss:     1.5035 Validation Accuracy: 0.384600\n",
      "Epoch  5, CIFAR-10 Batch 1:  Loss:     1.6126 Validation Accuracy: 0.420800\n",
      "Epoch  5, CIFAR-10 Batch 2:  Loss:     1.5355 Validation Accuracy: 0.415600\n",
      "Epoch  5, CIFAR-10 Batch 3:  Loss:     1.3221 Validation Accuracy: 0.411000\n",
      "Epoch  5, CIFAR-10 Batch 4:  Loss:     1.5133 Validation Accuracy: 0.438000\n",
      "Epoch  5, CIFAR-10 Batch 5:  Loss:     1.4104 Validation Accuracy: 0.441200\n",
      "Epoch  6, CIFAR-10 Batch 1:  Loss:     1.5421 Validation Accuracy: 0.466600\n",
      "Epoch  6, CIFAR-10 Batch 2:  Loss:     1.4822 Validation Accuracy: 0.465800\n",
      "Epoch  6, CIFAR-10 Batch 3:  Loss:     1.2839 Validation Accuracy: 0.450000\n",
      "Epoch  6, CIFAR-10 Batch 4:  Loss:     1.4702 Validation Accuracy: 0.469800\n",
      "Epoch  6, CIFAR-10 Batch 5:  Loss:     1.3906 Validation Accuracy: 0.459200\n",
      "Epoch  7, CIFAR-10 Batch 1:  Loss:     1.4675 Validation Accuracy: 0.473600\n",
      "Epoch  7, CIFAR-10 Batch 2:  Loss:     1.4156 Validation Accuracy: 0.484800\n",
      "Epoch  7, CIFAR-10 Batch 3:  Loss:     1.1978 Validation Accuracy: 0.471800\n",
      "Epoch  7, CIFAR-10 Batch 4:  Loss:     1.3637 Validation Accuracy: 0.483400\n",
      "Epoch  7, CIFAR-10 Batch 5:  Loss:     1.2974 Validation Accuracy: 0.500000\n",
      "Epoch  8, CIFAR-10 Batch 1:  Loss:     1.3955 Validation Accuracy: 0.488400\n",
      "Epoch  8, CIFAR-10 Batch 2:  Loss:     1.3039 Validation Accuracy: 0.491200\n",
      "Epoch  8, CIFAR-10 Batch 3:  Loss:     1.1205 Validation Accuracy: 0.500400\n",
      "Epoch  8, CIFAR-10 Batch 4:  Loss:     1.3373 Validation Accuracy: 0.500800\n",
      "Epoch  8, CIFAR-10 Batch 5:  Loss:     1.2546 Validation Accuracy: 0.504400\n",
      "Epoch  9, CIFAR-10 Batch 1:  Loss:     1.3518 Validation Accuracy: 0.511800\n",
      "Epoch  9, CIFAR-10 Batch 2:  Loss:     1.2844 Validation Accuracy: 0.508200\n",
      "Epoch  9, CIFAR-10 Batch 3:  Loss:     1.1227 Validation Accuracy: 0.506400\n",
      "Epoch  9, CIFAR-10 Batch 4:  Loss:     1.2214 Validation Accuracy: 0.517600\n",
      "Epoch  9, CIFAR-10 Batch 5:  Loss:     1.1708 Validation Accuracy: 0.520200\n",
      "Epoch 10, CIFAR-10 Batch 1:  Loss:     1.2434 Validation Accuracy: 0.532000\n",
      "Epoch 10, CIFAR-10 Batch 2:  Loss:     1.2549 Validation Accuracy: 0.543800\n",
      "Epoch 10, CIFAR-10 Batch 3:  Loss:     1.0514 Validation Accuracy: 0.515800\n",
      "Epoch 10, CIFAR-10 Batch 4:  Loss:     1.1687 Validation Accuracy: 0.532800\n",
      "Epoch 10, CIFAR-10 Batch 5:  Loss:     1.1717 Validation Accuracy: 0.520200\n",
      "Epoch 11, CIFAR-10 Batch 1:  Loss:     1.1933 Validation Accuracy: 0.538600\n",
      "Epoch 11, CIFAR-10 Batch 2:  Loss:     1.2007 Validation Accuracy: 0.533000\n",
      "Epoch 11, CIFAR-10 Batch 3:  Loss:     0.9772 Validation Accuracy: 0.535600\n",
      "Epoch 11, CIFAR-10 Batch 4:  Loss:     1.1894 Validation Accuracy: 0.541600\n",
      "Epoch 11, CIFAR-10 Batch 5:  Loss:     1.0563 Validation Accuracy: 0.546200\n",
      "Epoch 12, CIFAR-10 Batch 1:  Loss:     1.1291 Validation Accuracy: 0.539400\n",
      "Epoch 12, CIFAR-10 Batch 2:  Loss:     1.1152 Validation Accuracy: 0.545600\n",
      "Epoch 12, CIFAR-10 Batch 3:  Loss:     0.9497 Validation Accuracy: 0.532400\n",
      "Epoch 12, CIFAR-10 Batch 4:  Loss:     1.1403 Validation Accuracy: 0.548400\n",
      "Epoch 12, CIFAR-10 Batch 5:  Loss:     1.0518 Validation Accuracy: 0.540000\n",
      "Epoch 13, CIFAR-10 Batch 1:  Loss:     1.0753 Validation Accuracy: 0.554400\n",
      "Epoch 13, CIFAR-10 Batch 2:  Loss:     1.0969 Validation Accuracy: 0.544200\n",
      "Epoch 13, CIFAR-10 Batch 3:  Loss:     0.9457 Validation Accuracy: 0.545200\n",
      "Epoch 13, CIFAR-10 Batch 4:  Loss:     1.0632 Validation Accuracy: 0.552600\n",
      "Epoch 13, CIFAR-10 Batch 5:  Loss:     0.9640 Validation Accuracy: 0.560600\n",
      "Epoch 14, CIFAR-10 Batch 1:  Loss:     1.0419 Validation Accuracy: 0.552400\n",
      "Epoch 14, CIFAR-10 Batch 2:  Loss:     1.0193 Validation Accuracy: 0.560400\n",
      "Epoch 14, CIFAR-10 Batch 3:  Loss:     0.9469 Validation Accuracy: 0.535400\n",
      "Epoch 14, CIFAR-10 Batch 4:  Loss:     1.0191 Validation Accuracy: 0.560600\n",
      "Epoch 14, CIFAR-10 Batch 5:  Loss:     0.9318 Validation Accuracy: 0.559400\n",
      "Epoch 15, CIFAR-10 Batch 1:  Loss:     0.9876 Validation Accuracy: 0.568200\n",
      "Epoch 15, CIFAR-10 Batch 2:  Loss:     0.9902 Validation Accuracy: 0.562600\n",
      "Epoch 15, CIFAR-10 Batch 3:  Loss:     0.9148 Validation Accuracy: 0.548400\n",
      "Epoch 15, CIFAR-10 Batch 4:  Loss:     0.9876 Validation Accuracy: 0.571000\n",
      "Epoch 15, CIFAR-10 Batch 5:  Loss:     0.8825 Validation Accuracy: 0.567200\n",
      "Epoch 16, CIFAR-10 Batch 1:  Loss:     0.9826 Validation Accuracy: 0.563800\n",
      "Epoch 16, CIFAR-10 Batch 2:  Loss:     0.9688 Validation Accuracy: 0.567800\n",
      "Epoch 16, CIFAR-10 Batch 3:  Loss:     0.8904 Validation Accuracy: 0.554600\n",
      "Epoch 16, CIFAR-10 Batch 4:  Loss:     0.9371 Validation Accuracy: 0.578000\n",
      "Epoch 16, CIFAR-10 Batch 5:  Loss:     0.8606 Validation Accuracy: 0.563200\n",
      "Epoch 17, CIFAR-10 Batch 1:  Loss:     0.9546 Validation Accuracy: 0.580400\n",
      "Epoch 17, CIFAR-10 Batch 2:  Loss:     0.9465 Validation Accuracy: 0.552200\n",
      "Epoch 17, CIFAR-10 Batch 3:  Loss:     0.8140 Validation Accuracy: 0.568800\n",
      "Epoch 17, CIFAR-10 Batch 4:  Loss:     0.9239 Validation Accuracy: 0.568000\n",
      "Epoch 17, CIFAR-10 Batch 5:  Loss:     0.8239 Validation Accuracy: 0.576200\n",
      "Epoch 18, CIFAR-10 Batch 1:  Loss:     0.9432 Validation Accuracy: 0.574000\n",
      "Epoch 18, CIFAR-10 Batch 2:  Loss:     0.9605 Validation Accuracy: 0.572000\n",
      "Epoch 18, CIFAR-10 Batch 3:  Loss:     0.8317 Validation Accuracy: 0.569000\n",
      "Epoch 18, CIFAR-10 Batch 4:  Loss:     0.8893 Validation Accuracy: 0.576000\n",
      "Epoch 18, CIFAR-10 Batch 5:  Loss:     0.8372 Validation Accuracy: 0.565000\n",
      "Epoch 19, CIFAR-10 Batch 1:  Loss:     0.9462 Validation Accuracy: 0.551000\n",
      "Epoch 19, CIFAR-10 Batch 2:  Loss:     0.8676 Validation Accuracy: 0.583400\n",
      "Epoch 19, CIFAR-10 Batch 3:  Loss:     0.8168 Validation Accuracy: 0.571800\n",
      "Epoch 19, CIFAR-10 Batch 4:  Loss:     0.8616 Validation Accuracy: 0.578600\n",
      "Epoch 19, CIFAR-10 Batch 5:  Loss:     0.8202 Validation Accuracy: 0.568800\n",
      "Epoch 20, CIFAR-10 Batch 1:  Loss:     0.8875 Validation Accuracy: 0.584400\n",
      "Epoch 20, CIFAR-10 Batch 2:  Loss:     0.8607 Validation Accuracy: 0.572800\n",
      "Epoch 20, CIFAR-10 Batch 3:  Loss:     0.7644 Validation Accuracy: 0.582600\n",
      "Epoch 20, CIFAR-10 Batch 4:  Loss:     0.8458 Validation Accuracy: 0.579600\n",
      "Epoch 20, CIFAR-10 Batch 5:  Loss:     0.7796 Validation Accuracy: 0.562200\n",
      "Epoch 21, CIFAR-10 Batch 1:  Loss:     0.8512 Validation Accuracy: 0.575400\n",
      "Epoch 21, CIFAR-10 Batch 2:  Loss:     0.8674 Validation Accuracy: 0.585400\n",
      "Epoch 21, CIFAR-10 Batch 3:  Loss:     0.7535 Validation Accuracy: 0.589400\n",
      "Epoch 21, CIFAR-10 Batch 4:  Loss:     0.8217 Validation Accuracy: 0.573800\n",
      "Epoch 21, CIFAR-10 Batch 5:  Loss:     0.7605 Validation Accuracy: 0.569000\n",
      "Epoch 22, CIFAR-10 Batch 1:  Loss:     0.8278 Validation Accuracy: 0.584200\n",
      "Epoch 22, CIFAR-10 Batch 2:  Loss:     0.8781 Validation Accuracy: 0.584600\n",
      "Epoch 22, CIFAR-10 Batch 3:  Loss:     0.7807 Validation Accuracy: 0.579600\n",
      "Epoch 22, CIFAR-10 Batch 4:  Loss:     0.7790 Validation Accuracy: 0.586000\n",
      "Epoch 22, CIFAR-10 Batch 5:  Loss:     0.7292 Validation Accuracy: 0.581400\n",
      "Epoch 23, CIFAR-10 Batch 1:  Loss:     0.8135 Validation Accuracy: 0.590600\n",
      "Epoch 23, CIFAR-10 Batch 2:  Loss:     0.8690 Validation Accuracy: 0.582200\n",
      "Epoch 23, CIFAR-10 Batch 3:  Loss:     0.7632 Validation Accuracy: 0.571400\n",
      "Epoch 23, CIFAR-10 Batch 4:  Loss:     0.7224 Validation Accuracy: 0.581800\n",
      "Epoch 23, CIFAR-10 Batch 5:  Loss:     0.7697 Validation Accuracy: 0.564200\n",
      "Epoch 24, CIFAR-10 Batch 1:  Loss:     0.8442 Validation Accuracy: 0.564800\n",
      "Epoch 24, CIFAR-10 Batch 2:  Loss:     0.7971 Validation Accuracy: 0.581000\n",
      "Epoch 24, CIFAR-10 Batch 3:  Loss:     0.7464 Validation Accuracy: 0.583600\n",
      "Epoch 24, CIFAR-10 Batch 4:  Loss:     0.7198 Validation Accuracy: 0.584400\n",
      "Epoch 24, CIFAR-10 Batch 5:  Loss:     0.6581 Validation Accuracy: 0.580600\n",
      "Epoch 25, CIFAR-10 Batch 1:  Loss:     0.8371 Validation Accuracy: 0.574200\n",
      "Epoch 25, CIFAR-10 Batch 2:  Loss:     0.8389 Validation Accuracy: 0.571600\n",
      "Epoch 25, CIFAR-10 Batch 3:  Loss:     0.7136 Validation Accuracy: 0.581400\n",
      "Epoch 25, CIFAR-10 Batch 4:  Loss:     0.7152 Validation Accuracy: 0.582600\n",
      "Epoch 25, CIFAR-10 Batch 5:  Loss:     0.7136 Validation Accuracy: 0.580800\n",
      "Epoch 26, CIFAR-10 Batch 1:  Loss:     0.8685 Validation Accuracy: 0.553600\n",
      "Epoch 26, CIFAR-10 Batch 2:  Loss:     0.7832 Validation Accuracy: 0.586800\n",
      "Epoch 26, CIFAR-10 Batch 3:  Loss:     0.7089 Validation Accuracy: 0.585600\n",
      "Epoch 26, CIFAR-10 Batch 4:  Loss:     0.7200 Validation Accuracy: 0.598600\n",
      "Epoch 26, CIFAR-10 Batch 5:  Loss:     0.6720 Validation Accuracy: 0.580200\n",
      "Epoch 27, CIFAR-10 Batch 1:  Loss:     0.7969 Validation Accuracy: 0.582400\n",
      "Epoch 27, CIFAR-10 Batch 2:  Loss:     0.7463 Validation Accuracy: 0.582200\n",
      "Epoch 27, CIFAR-10 Batch 3:  Loss:     0.6723 Validation Accuracy: 0.592800\n",
      "Epoch 27, CIFAR-10 Batch 4:  Loss:     0.6823 Validation Accuracy: 0.594000\n",
      "Epoch 27, CIFAR-10 Batch 5:  Loss:     0.6774 Validation Accuracy: 0.574200\n",
      "Epoch 28, CIFAR-10 Batch 1:  Loss:     0.8034 Validation Accuracy: 0.581600\n",
      "Epoch 28, CIFAR-10 Batch 2:  Loss:     0.7315 Validation Accuracy: 0.576600\n",
      "Epoch 28, CIFAR-10 Batch 3:  Loss:     0.6642 Validation Accuracy: 0.585600\n",
      "Epoch 28, CIFAR-10 Batch 4:  Loss:     0.6722 Validation Accuracy: 0.585400\n",
      "Epoch 28, CIFAR-10 Batch 5:  Loss:     0.6455 Validation Accuracy: 0.583000\n",
      "Epoch 29, CIFAR-10 Batch 1:  Loss:     0.7761 Validation Accuracy: 0.593600\n",
      "Epoch 29, CIFAR-10 Batch 2:  Loss:     0.7425 Validation Accuracy: 0.570400\n",
      "Epoch 29, CIFAR-10 Batch 3:  Loss:     0.6904 Validation Accuracy: 0.581200\n",
      "Epoch 29, CIFAR-10 Batch 4:  Loss:     0.6581 Validation Accuracy: 0.593400\n",
      "Epoch 29, CIFAR-10 Batch 5:  Loss:     0.6186 Validation Accuracy: 0.579400\n",
      "Epoch 30, CIFAR-10 Batch 1:  Loss:     0.7616 Validation Accuracy: 0.585200\n",
      "Epoch 30, CIFAR-10 Batch 2:  Loss:     0.7363 Validation Accuracy: 0.578200\n",
      "Epoch 30, CIFAR-10 Batch 3:  Loss:     0.7160 Validation Accuracy: 0.567000\n",
      "Epoch 30, CIFAR-10 Batch 4:  Loss:     0.6481 Validation Accuracy: 0.595600\n",
      "Epoch 30, CIFAR-10 Batch 5:  Loss:     0.6905 Validation Accuracy: 0.578800\n"
     ]
    }
   ],
   "source": [
    "\"\"\"\n",
    "DON'T MODIFY ANYTHING IN THIS CELL\n",
    "\"\"\"\n",
    "save_model_path = './image_classification'\n",
    "\n",
    "print('Training...')\n",
    "with tf.Session() as sess:\n",
    "    # Initializing the variables\n",
    "    sess.run(tf.global_variables_initializer())\n",
    "    \n",
    "    # Training cycle\n",
    "    for epoch in range(epochs):\n",
    "        # Loop over all batches\n",
    "        n_batches = 5\n",
    "        for batch_i in range(1, n_batches + 1):\n",
    "            for batch_features, batch_labels in helper.load_preprocess_training_batch(batch_i, batch_size):\n",
    "                train_neural_network(sess, optimizer, keep_probability, batch_features, batch_labels)\n",
    "            print('Epoch {:>2}, CIFAR-10 Batch {}:  '.format(epoch + 1, batch_i), end='')\n",
    "            print_stats(sess, batch_features, batch_labels, cost, accuracy)\n",
    "            \n",
    "    # Save Model\n",
    "    saver = tf.train.Saver()\n",
    "    save_path = saver.save(sess, save_model_path)"
   ]
  },
  {
   "cell_type": "markdown",
   "metadata": {},
   "source": [
    "# Checkpoint\n",
    "The model has been saved to disk.\n",
    "## Test Model\n",
    "Test your model against the test dataset.  This will be your final accuracy. You should have an accuracy greater than 50%. If you don't, keep tweaking the model architecture and parameters."
   ]
  },
  {
   "cell_type": "code",
   "execution_count": 76,
   "metadata": {
    "collapsed": false
   },
   "outputs": [
    {
     "name": "stdout",
     "output_type": "stream",
     "text": [
      "Testing Accuracy: 0.5803995253164557\n",
      "\n"
     ]
    },
    {
     "data": {
      "image/png": "[encoded data removed]",
      "text/plain": [
       "<matplotlib.figure.Figure at 0x20200e8a048>"
      ]
     },
     "metadata": {
      "image/png": {
       "height": 319,
       "width": 355
      }
     },
     "output_type": "display_data"
    }
   ],
   "source": [
    "\"\"\"\n",
    "DON'T MODIFY ANYTHING IN THIS CELL\n",
    "\"\"\"\n",
    "%matplotlib inline\n",
    "%config InlineBackend.figure_format = 'retina'\n",
    "\n",
    "import tensorflow as tf\n",
    "import pickle\n",
    "import helper\n",
    "import random\n",
    "\n",
    "# Set batch size if not already set\n",
    "try:\n",
    "    if batch_size:\n",
    "        pass\n",
    "except NameError:\n",
    "    batch_size = 64\n",
    "\n",
    "save_model_path = './image_classification'\n",
    "n_samples = 4\n",
    "top_n_predictions = 3\n",
    "\n",
    "def test_model():\n",
    "    \"\"\"\n",
    "    Test the saved model against the test dataset\n",
    "    \"\"\"\n",
    "\n",
    "    test_features, test_labels = pickle.load(open('preprocess_training.p', mode='rb'))\n",
    "    loaded_graph = tf.Graph()\n",
    "\n",
    "    with tf.Session(graph=loaded_graph) as sess:\n",
    "        # Load model\n",
    "        loader = tf.train.import_meta_graph(save_model_path + '.meta')\n",
    "        loader.restore(sess, save_model_path)\n",
    "\n",
    "        # Get Tensors from loaded model\n",
    "        loaded_x = loaded_graph.get_tensor_by_name('x:0')\n",
    "        loaded_y = loaded_graph.get_tensor_by_name('y:0')\n",
    "        loaded_keep_prob = loaded_graph.get_tensor_by_name('keep_prob:0')\n",
    "        loaded_logits = loaded_graph.get_tensor_by_name('logits:0')\n",
    "        loaded_acc = loaded_graph.get_tensor_by_name('accuracy:0')\n",
    "        \n",
    "        # Get accuracy in batches for memory limitations\n",
    "        test_batch_acc_total = 0\n",
    "        test_batch_count = 0\n",
    "        \n",
    "        for train_feature_batch, train_label_batch in helper.batch_features_labels(test_features, test_labels, batch_size):\n",
    "            test_batch_acc_total += sess.run(\n",
    "                loaded_acc,\n",
    "                feed_dict={loaded_x: train_feature_batch, loaded_y: train_label_batch, loaded_keep_prob: 1.0})\n",
    "            test_batch_count += 1\n",
    "\n",
    "        print('Testing Accuracy: {}\\n'.format(test_batch_acc_total/test_batch_count))\n",
    "\n",
    "        # Print Random Samples\n",
    "        random_test_features, random_test_labels = tuple(zip(*random.sample(list(zip(test_features, test_labels)), n_samples)))\n",
    "        random_test_predictions = sess.run(\n",
    "            tf.nn.top_k(tf.nn.softmax(loaded_logits), top_n_predictions),\n",
    "            feed_dict={loaded_x: random_test_features, loaded_y: random_test_labels, loaded_keep_prob: 1.0})\n",
    "        helper.display_image_predictions(random_test_features, random_test_labels, random_test_predictions)\n",
    "\n",
    "\n",
    "test_model()"
   ]
  },
  {
   "cell_type": "markdown",
   "metadata": {},
   "source": [
    "## Why 50-70% Accuracy?\n",
    "You might be wondering why you can't get an accuracy any higher. First things first, 50% isn't bad for a simple CNN.  Pure guessing would get you 10% accuracy. However, you might notice people are getting scores [well above 70%](http://rodrigob.github.io/are_we_there_yet/build/classification_datasets_results.html#43494641522d3130).  That's because we haven't taught you all there is to know about neural networks. We still need to cover a few more techniques.\n",
    "## Submitting This Project\n",
    "When submitting this project, make sure to run all the cells before saving the notebook.  Save the notebook file as \"dlnd_image_classification.ipynb\" and save it as a HTML file under \"File\" -> \"Download as\".  Include the \"helper.py\" and \"problem_unittests.py\" files in your submission."
   ]
  }
 ],
 "metadata": {
  "kernelspec": {
   "display_name": "Python 3",
   "language": "python",
   "name": "python3"
  },
  "language_info": {
   "codemirror_mode": {
    "name": "ipython",
    "version": 3
   },
   "file_extension": ".py",
   "mimetype": "text/x-python",
   "name": "python",
   "nbconvert_exporter": "python",
   "pygments_lexer": "ipython3",
   "version": "3.6.0"
  }
 },
 "nbformat": 4,
 "nbformat_minor": 0
}
